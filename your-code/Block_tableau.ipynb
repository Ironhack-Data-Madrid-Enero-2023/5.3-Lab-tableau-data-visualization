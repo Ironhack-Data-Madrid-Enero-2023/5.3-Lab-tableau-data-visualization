{
 "cells": [
  {
   "cell_type": "code",
   "execution_count": null,
   "metadata": {},
   "outputs": [],
   "source": []
  }
 ],
 "metadata": {
  "kernelspec": {
   "display_name": "Python 3",
   "language": "python",
   "name": "python3"
  },
  "language_info": {
   "name": "python",
   "version": "3.10.7"
  },
  "orig_nbformat": 4,
  "vscode": {
   "interpreter": {
    "hash": "8d0864e8601acec23bf7956f5ba9d5922decfc4a3b2966f30d368ad5733be0b1"
   }
  }
 },
 "nbformat": 4,
 "nbformat_minor": 2
}
